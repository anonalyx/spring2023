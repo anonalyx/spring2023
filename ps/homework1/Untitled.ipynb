{
 "cells": [
  {
   "cell_type": "markdown",
   "id": "2024dba3",
   "metadata": {},
   "source": [
    "#### Name: Alex Cullen\n",
    "####  identikey: alcu6962\n",
    "####  email: alcu6962@colorado.edu"
   ]
  },
  {
   "cell_type": "markdown",
   "id": "8ce49ef1",
   "metadata": {},
   "source": [
    "# Calculations"
   ]
  },
  {
   "cell_type": "code",
   "execution_count": 1,
   "id": "e78eaa6f",
   "metadata": {},
   "outputs": [],
   "source": [
    "x = 10"
   ]
  },
  {
   "cell_type": "code",
   "execution_count": 2,
   "id": "6e278853",
   "metadata": {},
   "outputs": [],
   "source": [
    "y = 2.0"
   ]
  },
  {
   "cell_type": "code",
   "execution_count": 3,
   "id": "c69b9ddf",
   "metadata": {},
   "outputs": [
    {
     "data": {
      "text/plain": [
       "10"
      ]
     },
     "execution_count": 3,
     "metadata": {},
     "output_type": "execute_result"
    }
   ],
   "source": [
    "x"
   ]
  },
  {
   "cell_type": "code",
   "execution_count": 4,
   "id": "7af494c3",
   "metadata": {},
   "outputs": [
    {
     "name": "stdout",
     "output_type": "stream",
     "text": [
      "12.0\n"
     ]
    }
   ],
   "source": [
    "print(x + y)"
   ]
  },
  {
   "cell_type": "markdown",
   "id": "0060a2d4",
   "metadata": {},
   "source": [
    "# Mathematical Markdown"
   ]
  },
  {
   "cell_type": "markdown",
   "id": "b7b0c906",
   "metadata": {},
   "source": [
    "$ ax^2 + bx + c = 0 $"
   ]
  },
  {
   "cell_type": "markdown",
   "id": "116b4e43",
   "metadata": {},
   "source": [
    "Quadratic forumla:"
   ]
  },
  {
   "cell_type": "markdown",
   "id": "281bb2ac",
   "metadata": {},
   "source": [
    "$ x = \\frac{-b \\pm \\sqrt{b^2 - 4ac}}{2a} $"
   ]
  },
  {
   "cell_type": "markdown",
   "id": "7d927de3",
   "metadata": {},
   "source": [
    "## Lists"
   ]
  },
  {
   "cell_type": "code",
   "execution_count": 8,
   "id": "f2ab2579",
   "metadata": {},
   "outputs": [],
   "source": [
    "lyst = [1, 2, 3, 4, 5]"
   ]
  },
  {
   "cell_type": "code",
   "execution_count": 9,
   "id": "71ff4dff",
   "metadata": {},
   "outputs": [
    {
     "data": {
      "text/plain": [
       "[1, 2, 3]"
      ]
     },
     "execution_count": 9,
     "metadata": {},
     "output_type": "execute_result"
    }
   ],
   "source": [
    "lyst[0:3]"
   ]
  },
  {
   "cell_type": "code",
   "execution_count": 10,
   "id": "f7ee753b",
   "metadata": {},
   "outputs": [
    {
     "data": {
      "text/plain": [
       "[4, 5]"
      ]
     },
     "execution_count": 10,
     "metadata": {},
     "output_type": "execute_result"
    }
   ],
   "source": [
    "lyst[3:]"
   ]
  },
  {
   "cell_type": "code",
   "execution_count": 26,
   "id": "3b4f306a",
   "metadata": {},
   "outputs": [
    {
     "data": {
      "text/plain": [
       "[1, 3, 5, 2, 4]"
      ]
     },
     "execution_count": 26,
     "metadata": {},
     "output_type": "execute_result"
    }
   ],
   "source": [
    "lyst[0::2] + lyst[1::2]"
   ]
  },
  {
   "cell_type": "code",
   "execution_count": 27,
   "id": "15b7bfbc",
   "metadata": {
    "scrolled": true
   },
   "outputs": [
    {
     "name": "stdout",
     "output_type": "stream",
     "text": [
      "[1, 9, 25, 4, 16]\n"
     ]
    }
   ],
   "source": [
    "new_lyst = [x**2 for x in _]\n",
    "print([x**2 for x in _])"
   ]
  },
  {
   "cell_type": "code",
   "execution_count": 28,
   "id": "3ea760df",
   "metadata": {},
   "outputs": [
    {
     "data": {
      "text/plain": [
       "55"
      ]
     },
     "execution_count": 28,
     "metadata": {},
     "output_type": "execute_result"
    }
   ],
   "source": [
    "sum(new_lyst)"
   ]
  },
  {
   "cell_type": "markdown",
   "id": "151af170",
   "metadata": {},
   "source": [
    "## Dictionary"
   ]
  },
  {
   "cell_type": "code",
   "execution_count": 30,
   "id": "38ac806a",
   "metadata": {},
   "outputs": [],
   "source": [
    "D= {\"anaconda\": \"nicki minaj\", \"python\": \"jupyter\", \"jupyter\": \"notebook\"}"
   ]
  },
  {
   "cell_type": "code",
   "execution_count": 31,
   "id": "86d85746",
   "metadata": {},
   "outputs": [
    {
     "data": {
      "text/plain": [
       "'nicki minaj'"
      ]
     },
     "execution_count": 31,
     "metadata": {},
     "output_type": "execute_result"
    }
   ],
   "source": [
    "D['anaconda']"
   ]
  },
  {
   "cell_type": "code",
   "execution_count": 33,
   "id": "860703af",
   "metadata": {},
   "outputs": [
    {
     "data": {
      "text/plain": [
       "'notebook'"
      ]
     },
     "execution_count": 33,
     "metadata": {},
     "output_type": "execute_result"
    }
   ],
   "source": [
    "D[D['python']]"
   ]
  },
  {
   "cell_type": "code",
   "execution_count": null,
   "id": "bd3e4145",
   "metadata": {},
   "outputs": [],
   "source": []
  }
 ],
 "metadata": {
  "kernelspec": {
   "display_name": "Python 3 (ipykernel)",
   "language": "python",
   "name": "python3"
  },
  "language_info": {
   "codemirror_mode": {
    "name": "ipython",
    "version": 3
   },
   "file_extension": ".py",
   "mimetype": "text/x-python",
   "name": "python",
   "nbconvert_exporter": "python",
   "pygments_lexer": "ipython3",
   "version": "3.9.15"
  }
 },
 "nbformat": 4,
 "nbformat_minor": 5
}
