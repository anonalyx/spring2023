{
 "cells": [
  {
   "cell_type": "markdown",
   "id": "caf2cb17",
   "metadata": {},
   "source": [
    "## Random Exercise - symptoms vector\n",
    "\n",
    "### Approach\n",
    "My approach to this problem will be to attempt this independently and then watch the video and see how my approach/solution is different from the lecturers, annotating my code etc."
   ]
  },
  {
   "cell_type": "markdown",
   "id": "45834aa9",
   "metadata": {},
   "source": [
    "Problem Statement:\n",
    "    Symptoms vector. A 20-vector \"s\" records whether each of 20 different symptoms is present in a medical patient, with \"s_i\" = 1 meaning the patient has the symptom and \"s_i\" = 0 meaning she does not. Expressing the following using vector notation.\n",
    "    \n",
    "    a) The total number of symptoms the patient has.\n",
    "    b) The patient exhibits five out of the first ten symptoms"
   ]
  },
  {
   "cell_type": "markdown",
   "id": "d72c9242",
   "metadata": {},
   "source": [
    "# My Attempt"
   ]
  },
  {
   "cell_type": "markdown",
   "id": "76fbd547",
   "metadata": {},
   "source": [
    "### Part A"
   ]
  },
  {
   "cell_type": "code",
   "execution_count": 56,
   "id": "19c15b29",
   "metadata": {},
   "outputs": [
    {
     "name": "stdout",
     "output_type": "stream",
     "text": [
      "symptom vector \"s\": [0, 1, 0, 1, 1, 0, 1, 1, 1, 0, 0, 0, 0, 1, 1, 0, 0, 1, 0, 1]\n",
      "total number of patient symptoms (sum of s_i for i=1...20): 10\n"
     ]
    },
    {
     "data": {
      "text/plain": [
       "10"
      ]
     },
     "execution_count": 56,
     "metadata": {},
     "output_type": "execute_result"
    }
   ],
   "source": [
    "'''\n",
    "The total number of symptoms the patient has is equivalent to the sum of each element of the vector since\n",
    "each element of the vector is a boolean value where 0 = false (false meaning the patient does not have the symptom)\n",
    "and each true = 1\n",
    "\n",
    "total number of symptoms in patient symptom vector s = s_1 + s_2 + ... + s_20\n",
    "written\n",
    "\n",
    "sum of s_i where i = 1 to i = 20 and s is a vector of size 20\n",
    "\n",
    "in python sum(s) could be a useful shorthand or maybe its s.sum(), I'm not sure what methods are available\n",
    "on lists to support this and will need to investigate\n",
    "\n",
    "the list data structure is a good proxy for a 1D vector, and I will use that here. To simulate the patient  \n",
    "'''\n",
    "#I thought the library was rand, it's actually random when I looked at the documentation\n",
    "#import rand\n",
    "from random import random\n",
    "\n",
    "def total_number_symptoms(s):\n",
    "    print(f'total number of patient symptoms (sum of s_i for i=1...20): {sum(s)}')\n",
    "    return sum(s)\n",
    "    \n",
    "def generate_patient_symptom_vector():\n",
    "    #I'll need some form of randomness, so will probably use the python native rand library imported at the top of the cell\n",
    "    #I'll also need to populate each cell, range generates a range of integer values from 0 to n-1. n here is the size\n",
    "    #of the vector\n",
    "    s = []\n",
    "    for i in range(20):\n",
    "        #append is the function needed to add elements to the end of a list. random generates pseudorandom \n",
    "        #number between 0 and 1. round will round to the nearest number so x > 0.5 -> 1 and x < .5 -> 0\n",
    "        s.append(round(random()))\n",
    "    print(f'symptom vector \"s\": {s}')\n",
    "    return s\n",
    "#run and print output where generated vector is input to total_number_symptoms function\n",
    "total_number_symptoms(generate_patient_symptom_vector())        "
   ]
  },
  {
   "cell_type": "code",
   "execution_count": 16,
   "id": "7712afcc",
   "metadata": {},
   "outputs": [
    {
     "data": {
      "text/plain": [
       "6"
      ]
     },
     "execution_count": 16,
     "metadata": {},
     "output_type": "execute_result"
    }
   ],
   "source": [
    "#testing that sum(list) is short hand for sum each element in the list\n",
    "sum([1,2,3])"
   ]
  },
  {
   "cell_type": "code",
   "execution_count": 17,
   "id": "47726020",
   "metadata": {},
   "outputs": [
    {
     "data": {
      "text/plain": [
       "0.33797746000041395"
      ]
     },
     "execution_count": 17,
     "metadata": {},
     "output_type": "execute_result"
    }
   ],
   "source": [
    "#testing that random.random() will generate a numer between 0 and 1 as described in python documentation\n",
    "random()"
   ]
  },
  {
   "cell_type": "markdown",
   "id": "2828ef25",
   "metadata": {},
   "source": [
    "### Part B"
   ]
  },
  {
   "cell_type": "code",
   "execution_count": 31,
   "id": "a9be6a8b",
   "metadata": {},
   "outputs": [
    {
     "name": "stdout",
     "output_type": "stream",
     "text": [
      "symptom vector \"s\": [0, 0, 0, 1, 0, 0, 0, 1, 1, 1, 1, 1, 0, 0, 1, 1, 1, 0, 0, 1]\n",
      "total number of patient symptoms (sum of s_i for i=1...20): 10\n",
      "vector v: [0, 0, 0, 1, 0, 0, 0, 1, 1, 1]\n",
      "Patient does not have 5 of first 10 symptoms\n"
     ]
    },
    {
     "data": {
      "text/plain": [
       "False"
      ]
     },
     "execution_count": 31,
     "metadata": {},
     "output_type": "execute_result"
    }
   ],
   "source": [
    "'''\n",
    "The wording on Part B is somewhat ambiguous, it's not clear to me if it's asking that we evaluate whether the patient\n",
    "exhibits 5 of 10 first symptoms, or to create a vector where the patient exhibits five out of first ten symptoms.\n",
    "\n",
    "If I'm going to express in vector notation. Then a subvector of s, we will call v, that is size 10 where v_i = s_i\n",
    "and 0 < i <= 10, and a patient that exhibits 5 of 10 first symptoms is one where:\n",
    "\n",
    "(sum of v_i where i = 1 and n = 10) >= 5\n",
    "\n",
    "'''\n",
    "def five_symptom_patient(patient):\n",
    "    print(f\"subvector v: {patient[:10]}\")\n",
    "    if sum(patient[:10]) >= 5:\n",
    "        print(\"Patient has 5 of first 10 symptoms\")\n",
    "        return True\n",
    "    else:\n",
    "        print(\"Patient does not have 5 of first 10 symptoms\")\n",
    "        return False\n",
    "patient = generate_patient_symptom_vector()\n",
    "total_symptoms = total_number_symptoms(patient)\n",
    "five_symptom_patient(patient)"
   ]
  },
  {
   "cell_type": "markdown",
   "id": "23fcaf13",
   "metadata": {},
   "source": [
    "# Reflection after Reviewing instructor solution"
   ]
  },
  {
   "cell_type": "markdown",
   "id": "c3159a75",
   "metadata": {},
   "source": [
    "The response to the question should have been expressed in vector notation, and while I did express it in series summation notation, and was able to implement useful functions around that, it was not aligned with the initial expectations of the question.\n",
    "\n",
    "A series summation can also be expressed as the inner product of an n-vector and a 1-vector of the same size, which is how the lecturer described it in the solution video. The correct answer was $ s^{T}1 $ where the inner product of a vector and a 1's vector of the same size will yield a single value equal to the sume of each element of the vector multiplied by 1.\n",
    "\n",
    "Similarly, for the second part of the question, after reviewing the lecture, I think that I did not explicitly express the solution in vector notation. The correct answer is $ s_{1:10} = 5 $. Also, I created a new vector $ v $ to represent the subvector of $ s_{1:10} $. I also misunderstood the statement and used the >= operation indicating that any value over 5 for the total number of symptoms in $ s_{1:10} $ was an acceptable answer. In actuality, only a strict equality of '= 5' is acceptable."
   ]
  },
  {
   "cell_type": "markdown",
   "id": "0ae24a7a",
   "metadata": {},
   "source": [
    "# 1.8 Problem"
   ]
  },
  {
   "cell_type": "markdown",
   "id": "f43a44d9",
   "metadata": {},
   "source": [
    "### My Approach"
   ]
  },
  {
   "cell_type": "markdown",
   "id": "b59aba34",
   "metadata": {},
   "source": [
    "I am going to attempt this independently and then refer to the solution afterwards to see where I was wrong"
   ]
  },
  {
   "cell_type": "markdown",
   "id": "4d5724fc",
   "metadata": {},
   "source": [
    "### Problem Statement"
   ]
  },
  {
   "cell_type": "markdown",
   "id": "9d4a6ba0",
   "metadata": {},
   "source": [
    "- Company sells $ n $  different products or items.\n",
    "- vector $ p $ gives the profit in dollars per unit for each of the n items. (negative entries indicate loss leaders)\n",
    "- vector $ s $ gives total sales of each item sold over some period\n",
    "\n",
    "Express the total profit in terms of p and s using vector notation"
   ]
  },
  {
   "cell_type": "markdown",
   "id": "009036e0",
   "metadata": {},
   "source": [
    "## My Attempt"
   ]
  },
  {
   "cell_type": "markdown",
   "id": "f05ee829",
   "metadata": {},
   "source": [
    "The contribution to total profit of a single item can be represented as: \n",
    "total profit of item = (profit per unit) * (# of units sold within the period)\n",
    "\n",
    "or $x_{i} = p_{i} * s_{i}$ where x represents total profit, i is the index of the element in the vector, and vectors p and s are the same size.\n",
    "\n",
    "The inner product is defined as the sum of the products of the corresponding entries. \n",
    "\n",
    "Thus, by the definition of inner product, the total profit $ x $ can be described as the inner product of the vector of profits per unit and s is the vector of sales $ x = p^{T}s $.  \n",
    "\n",
    "$ \\sum_{i=1}^{n} p_{i} * s_{i}  ==  p^{T}s$\n"
   ]
  },
  {
   "cell_type": "code",
   "execution_count": null,
   "id": "6a853cde",
   "metadata": {},
   "outputs": [],
   "source": []
  },
  {
   "cell_type": "markdown",
   "id": "5a4d5543",
   "metadata": {},
   "source": [
    "# 1.16 Problem"
   ]
  },
  {
   "cell_type": "markdown",
   "id": "110437bc",
   "metadata": {},
   "source": [
    "Inner product of nonnegative vectors. All entries must be nonnegative.\n",
    "a) Explain why the inner product of two nonnegative vectors is nonnegative?\n",
    "b) Suppose the inner product of two $ nn $ vectors is zero. What can you say about them? Your answer should be in terms of their respective sparsity patterns. i.e., which entries are zero and nonzero.\n"
   ]
  },
  {
   "cell_type": "markdown",
   "id": "48fe254b",
   "metadata": {},
   "source": [
    "## My attempt"
   ]
  },
  {
   "cell_type": "markdown",
   "id": "7cdcfe6e",
   "metadata": {},
   "source": [
    "a) Proof by contradiction:\n",
    "\n",
    "Hypothesis: the inner product of two nonnegative vectors is negative.\n",
    "\n",
    "$ n_{1}^{T}n_{2} < 0 $ where $ \\forall_{i} (n_{1i} \\in n_{1} | n_{1i} >= 0) $ and $ \\forall_{j}(n_{2j} \\in n_{2} | n_{2j} >= 0)\n",
    "\n",
    "#### Proof:\n",
    "\n",
    "given: $ \\forall_{i} (n_{1i} \\in n_{1} | n_{1i} >= 0) $ and $ \\forall_{j}(n_{2j} \\in n_{2} | n_{2j} >= 0) $ \n",
    "\n",
    "by definition of inner product:\n",
    "\n",
    "$ n_{1}^{T}n_{2} = n_{11}n_{21} + n_{12}n_{22} + \\, ...  \\, + n_{1q}n_{2r} $\n",
    "\n",
    "because $ n_{1i} $ and $ n_{2i} $ are both positive numbers, then by the property of real numbers, the sum and product of two positive numbers is also a positive number. \n",
    "\n",
    "####  Contradiction: \n",
    "The sum of the series $ \\sum_{i=1}^{n} n_{1i}n_{2j} $ will always be a positive number given every element in the each vector is a positive number, therefore the inner product of two nonnegative vectors will always be nonnegative.\n",
    "\n",
    "QED\n"
   ]
  },
  {
   "cell_type": "markdown",
   "id": "9959a2b0",
   "metadata": {},
   "source": [
    "b) If the inner product of two $nn$ vectors is zero then the product of each corresponding entry must equal 0. This means that either:\n",
    "\n",
    "1.) both vectors are 0 vectors \n",
    "\n",
    "2.) one vector is a 0 vector\n",
    "\n",
    "3.) one or both elements in each of the corresponding entries is equal to 0\n",
    "\n",
    "$ \\forall_{(x,y)}(x = 0 \\lor y = 0) $\n",
    "\n",
    "where $x$ and $y$ are corresponding entries in equal size vectors."
   ]
  },
  {
   "cell_type": "markdown",
   "id": "e7538285",
   "metadata": {},
   "source": [
    "# CODE BLOCKS"
   ]
  },
  {
   "cell_type": "markdown",
   "id": "488c1bf1",
   "metadata": {},
   "source": [
    "## Block 1"
   ]
  },
  {
   "cell_type": "markdown",
   "id": "17406d3d",
   "metadata": {},
   "source": [
    "Notes: Anything in square brackets is automatically interpreted by python as a `list` which is a data structure similar to an array. This is appropriate for representing a vector which is an ordered finite list of numbers [page 3]. We could also represent a vector as a tuple, of the same size using parentheses, however, lists and tuples have different methods and properties."
   ]
  },
  {
   "cell_type": "code",
   "execution_count": 1,
   "id": "0f66e77c",
   "metadata": {},
   "outputs": [
    {
     "data": {
      "text/plain": [
       "4"
      ]
     },
     "execution_count": 1,
     "metadata": {},
     "output_type": "execute_result"
    }
   ],
   "source": [
    "x = [-1.1, 0.0, 3.6, -7.2]\n",
    "len(x)"
   ]
  },
  {
   "cell_type": "markdown",
   "id": "15b27fee",
   "metadata": {},
   "source": [
    "Additional example:\n",
    "v is a vector of boolean values represented as 0's for False and 1's for True.\n",
    "$$ v = (0, 1, 0, 1) $$\n"
   ]
  },
  {
   "cell_type": "code",
   "execution_count": 16,
   "id": "487cd5c4",
   "metadata": {},
   "outputs": [],
   "source": [
    "v = [0, 1, 0 , 1]\n",
    "# or\n",
    "v = (0, 1, 0, 1)"
   ]
  },
  {
   "cell_type": "markdown",
   "id": "674eccc5",
   "metadata": {},
   "source": [
    "## Block 2"
   ]
  },
  {
   "cell_type": "markdown",
   "id": "b8e6b7f9",
   "metadata": {},
   "source": [
    "Notes: Numpy is not a native library and must be imported.\n",
    "We can pass a list as a parameter to the array method on the numpy class imported from the numpy module. \n",
    "\n",
    "Numpy array's support linear algebra operations like vector addition and scalar multiplication [page 15]"
   ]
  },
  {
   "cell_type": "code",
   "execution_count": 22,
   "id": "7025918d",
   "metadata": {},
   "outputs": [
    {
     "data": {
      "text/plain": [
       "4"
      ]
     },
     "execution_count": 22,
     "metadata": {},
     "output_type": "execute_result"
    }
   ],
   "source": [
    "import numpy as np\n",
    "x = np.array([-1.1, 0.0, 3.6, -7.2])\n",
    "len(x)"
   ]
  },
  {
   "cell_type": "markdown",
   "id": "630fae2d",
   "metadata": {},
   "source": [
    "Additional Example:\n",
    "If I multiply a python list by a scalar, 4, it just concatenates the list to itself 4 times. However, if I multiply a numpy array by a scalar, it correctly performs the linear algebra operation of scaling each element by 4."
   ]
  },
  {
   "cell_type": "code",
   "execution_count": 28,
   "id": "91426972",
   "metadata": {},
   "outputs": [
    {
     "name": "stdout",
     "output_type": "stream",
     "text": [
      "wrong: [-1.1, 0.0, 3.6, -7.2, -1.1, 0.0, 3.6, -7.2, -1.1, 0.0, 3.6, -7.2, -1.1, 0.0, 3.6, -7.2]\n",
      "right: [ -4.4   0.   14.4 -28.8]\n"
     ]
    }
   ],
   "source": [
    "y = [-1.1, 0.0, 3.6, -7.2]\n",
    "print (f'wrong: {y * 4}')\n",
    "print (f'right: {4 * x}')"
   ]
  },
  {
   "cell_type": "markdown",
   "id": "9ca107f2",
   "metadata": {},
   "source": [
    "## BLOCK 3"
   ]
  },
  {
   "cell_type": "markdown",
   "id": "79615ca7",
   "metadata": {},
   "source": [
    "Notes: You can index into an np array with the x[i] shorthand, where i is equal to the index of an element in an n-vector array, and the expression returns the element in the list at i. However, unlike mathematical notation in the book, which is 1-indexed, the indexing here will be 0-indexed [page 5]"
   ]
  },
  {
   "cell_type": "code",
   "execution_count": 30,
   "id": "18a47d92",
   "metadata": {},
   "outputs": [
    {
     "data": {
      "text/plain": [
       "3.6"
      ]
     },
     "execution_count": 30,
     "metadata": {},
     "output_type": "execute_result"
    }
   ],
   "source": [
    "x = np.array([-1.1, 0.0, 3.6, -7.2])\n",
    "x[2]"
   ]
  },
  {
   "cell_type": "markdown",
   "id": "15ca7942",
   "metadata": {},
   "source": [
    "Additional Example:\n",
    "\n",
    "the n-vector above is of size n=4. Therefore in mathematical notation $ x_{4} = -7.2 $ however, as we can see below, the np array is 0 indexed and x[4] returns an index error"
   ]
  },
  {
   "cell_type": "code",
   "execution_count": 32,
   "id": "7bfdd7c6",
   "metadata": {},
   "outputs": [
    {
     "ename": "IndexError",
     "evalue": "index 4 is out of bounds for axis 0 with size 4",
     "output_type": "error",
     "traceback": [
      "\u001b[0;31m---------------------------------------------------------------------------\u001b[0m",
      "\u001b[0;31mIndexError\u001b[0m                                Traceback (most recent call last)",
      "Cell \u001b[0;32mIn[32], line 1\u001b[0m\n\u001b[0;32m----> 1\u001b[0m \u001b[43mx\u001b[49m\u001b[43m[\u001b[49m\u001b[38;5;241;43m4\u001b[39;49m\u001b[43m]\u001b[49m\n",
      "\u001b[0;31mIndexError\u001b[0m: index 4 is out of bounds for axis 0 with size 4"
     ]
    }
   ],
   "source": [
    "x[4]"
   ]
  },
  {
   "cell_type": "markdown",
   "id": "8e5027cf",
   "metadata": {},
   "source": [
    "## BLOCK 4"
   ]
  },
  {
   "cell_type": "markdown",
   "id": "c0c2ee65",
   "metadata": {},
   "source": [
    "Notes: \n",
    "\n",
    "Array indexing on the left-hand side of an assignment statement to change the value of the corresponding element is useful python shorthand, however it is not a valid mathematical expression. After the below code is run, there is effectively a new vector that has been generated $ x_2 $, although the python program just assigns the vector to the original variable name $ x $\n"
   ]
  },
  {
   "cell_type": "code",
   "execution_count": 4,
   "id": "bf48f951",
   "metadata": {
    "scrolled": true
   },
   "outputs": [
    {
     "name": "stdout",
     "output_type": "stream",
     "text": [
      "[-1.1  0.  20.  -7.2]\n"
     ]
    }
   ],
   "source": [
    "x[2] = 20.0\n",
    "print(x)"
   ]
  },
  {
   "cell_type": "markdown",
   "id": "6502c13a",
   "metadata": {},
   "source": [
    "Additional example:\n",
    "We can assign any valid vector index a new value"
   ]
  },
  {
   "cell_type": "code",
   "execution_count": 35,
   "id": "79a43903",
   "metadata": {},
   "outputs": [
    {
     "name": "stdout",
     "output_type": "stream",
     "text": [
      "[-1.1  0.   3.6  1. ]\n"
     ]
    }
   ],
   "source": [
    "x[3] = 1\n",
    "print(x)"
   ]
  },
  {
   "cell_type": "markdown",
   "id": "c2a57b4e",
   "metadata": {},
   "source": [
    "## Block 5"
   ]
  },
  {
   "cell_type": "markdown",
   "id": "78fa0332",
   "metadata": {},
   "source": [
    "Notes:\n",
    "Negative indexing is not a valid operation in mathematics, but is useful shorthand for python. The book says the following about integer indexes: \"If we denote an n-vector using the symbol a, the ith element of the vector a is denoted ai, where the subscript i is an\n",
    "integer index that runs $ from \\, 1 \\, to \\, n $, the size of the vector.\" [page 3]"
   ]
  },
  {
   "cell_type": "code",
   "execution_count": 37,
   "id": "9b237283",
   "metadata": {},
   "outputs": [
    {
     "data": {
      "text/plain": [
       "1.0"
      ]
     },
     "execution_count": 37,
     "metadata": {},
     "output_type": "execute_result"
    }
   ],
   "source": [
    "x[-1]"
   ]
  },
  {
   "cell_type": "markdown",
   "id": "45eeea65",
   "metadata": {},
   "source": [
    "Additional Example:\n",
    "Negative indexing can also return second from last element in the vector, third from last, etc.\n"
   ]
  },
  {
   "cell_type": "code",
   "execution_count": 39,
   "id": "971893e0",
   "metadata": {},
   "outputs": [
    {
     "data": {
      "text/plain": [
       "3.6"
      ]
     },
     "execution_count": 39,
     "metadata": {},
     "output_type": "execute_result"
    }
   ],
   "source": [
    "x[-2]"
   ]
  },
  {
   "cell_type": "markdown",
   "id": "ff85361f",
   "metadata": {},
   "source": [
    "## Block 6"
   ]
  },
  {
   "cell_type": "markdown",
   "id": "e2c49e35",
   "metadata": {},
   "source": [
    "Notes: If we are going to change a vector, it's better convention to copy the vector into a new variable. Whenever we update an array directly the original data is mutated or destroyed. Additionally if we don't copy and assign a new variable to the value of an existing variable, a change to either variable would mutate both, potentially introducing unintended bugs."
   ]
  },
  {
   "cell_type": "code",
   "execution_count": 42,
   "id": "f3db7272",
   "metadata": {},
   "outputs": [
    {
     "name": "stdout",
     "output_type": "stream",
     "text": [
      "[-1.1  0.   3.6 -7.2]\n"
     ]
    }
   ],
   "source": [
    "\n",
    "x = np.array([-1.1, 0.0, 3.6, -7.2])\n",
    "y = x.copy()\n",
    "x[2] = 20.0\n",
    "print(y)"
   ]
  },
  {
   "cell_type": "markdown",
   "id": "0b89b3e9",
   "metadata": {},
   "source": [
    "Additional Example:\n",
    "If we mutate y, it will not have any impact on the value of x, because y is an independent array from x"
   ]
  },
  {
   "cell_type": "code",
   "execution_count": 45,
   "id": "569ea9eb",
   "metadata": {},
   "outputs": [
    {
     "name": "stdout",
     "output_type": "stream",
     "text": [
      "x [-1.1  0.  20.  -7.2]\n",
      "y [-1.1  0.   3.6  1. ]\n"
     ]
    }
   ],
   "source": [
    "print(f'x {x}')\n",
    "y[3] = 1\n",
    "print(f'y {y}')"
   ]
  },
  {
   "cell_type": "markdown",
   "id": "32b54107",
   "metadata": {},
   "source": [
    "## BLOCK 7"
   ]
  },
  {
   "cell_type": "markdown",
   "id": "0cbdd0a1",
   "metadata": {},
   "source": [
    "Notes: \"Two vectors a and b are equal, which we denote a = b, if they have the same\n",
    "size, and each of the corresponding entries is the same. If a and b are n-vectors,\n",
    "then a = b means a1 = b1, . . . , an = bn.\" [page 3]\n",
    "\n",
    "We can use the python == equality operator that will return a boolean vector x of size n, where $ x_{i} $ is true if vector $ a_{i} = b_{i} $, and false otherwise"
   ]
  },
  {
   "cell_type": "code",
   "execution_count": 48,
   "id": "3ec687f8",
   "metadata": {},
   "outputs": [
    {
     "data": {
      "text/plain": [
       "array([ True,  True,  True,  True])"
      ]
     },
     "execution_count": 48,
     "metadata": {},
     "output_type": "execute_result"
    }
   ],
   "source": [
    "x = np.array([-1.1, 0.0, 3.6, -7.2])\n",
    "y = x.copy()\n",
    "x == y"
   ]
  },
  {
   "cell_type": "markdown",
   "id": "7456b2e2",
   "metadata": {},
   "source": [
    "Additional example:\n",
    "If we recreate the example above, but create an entirely new vector instead of copying, with the same values for each corresponding entry, then we get the same output as expected"
   ]
  },
  {
   "cell_type": "code",
   "execution_count": 58,
   "id": "c2c4ab5a",
   "metadata": {},
   "outputs": [
    {
     "data": {
      "text/plain": [
       "array([ True,  True,  True,  True])"
      ]
     },
     "execution_count": 58,
     "metadata": {},
     "output_type": "execute_result"
    }
   ],
   "source": [
    "y = np.array([-1.1, 0.0, 3.6, -7.2])\n",
    "y == x"
   ]
  },
  {
   "cell_type": "markdown",
   "id": "3d52b0b4",
   "metadata": {},
   "source": [
    "## Block 8"
   ]
  },
  {
   "cell_type": "markdown",
   "id": "aabfaf7e",
   "metadata": {},
   "source": [
    "Notes: \"If $ a_{1} ...  a_{m} $ are n-vectors, and  $ 1 ... m $ are scalars, the\n",
    "    n-vector $ \\beta_{1} a_{1} +  ...     +  \\beta_{1} a_{m} $ is called a linear combination of the vectors a1 ... an. The scalars  1 ...  m are called the coe cients of the linear combination.\" [page 17]\n",
    "\n",
    "We can see that the numpy module allows for us to express linear combinations in syntax that is similar to the formal mathematical notation.  "
   ]
  },
  {
   "cell_type": "code",
   "execution_count": 59,
   "id": "aaa2f523",
   "metadata": {},
   "outputs": [
    {
     "name": "stdout",
     "output_type": "stream",
     "text": [
      "[4. 5.]\n"
     ]
    }
   ],
   "source": [
    "import numpy as np\n",
    "a = np.array([1,2])\n",
    "b = np.array([3,4])\n",
    "alpha = -0.5\n",
    "beta = 1.5\n",
    "c = alpha*a + beta*b\n",
    "print(c)"
   ]
  },
  {
   "cell_type": "markdown",
   "id": "8e908d14",
   "metadata": {},
   "source": [
    "Additional Example:\n",
    "If we didn't use numpy, but just lists, we can see that we would not be able to use similar syntax to express the linear combination. We get a type error that a list cannot be multiplied by a scalar."
   ]
  },
  {
   "cell_type": "code",
   "execution_count": 60,
   "id": "725639a8",
   "metadata": {},
   "outputs": [
    {
     "ename": "TypeError",
     "evalue": "can't multiply sequence by non-int of type 'float'",
     "output_type": "error",
     "traceback": [
      "\u001b[0;31m---------------------------------------------------------------------------\u001b[0m",
      "\u001b[0;31mTypeError\u001b[0m                                 Traceback (most recent call last)",
      "Cell \u001b[0;32mIn[60], line 5\u001b[0m\n\u001b[1;32m      3\u001b[0m alpha \u001b[38;5;241m=\u001b[39m \u001b[38;5;241m-\u001b[39m\u001b[38;5;241m0.5\u001b[39m\n\u001b[1;32m      4\u001b[0m beta \u001b[38;5;241m=\u001b[39m \u001b[38;5;241m1.5\u001b[39m\n\u001b[0;32m----> 5\u001b[0m \u001b[38;5;28mprint\u001b[39m (\u001b[43malpha\u001b[49m\u001b[43m \u001b[49m\u001b[38;5;241;43m*\u001b[39;49m\u001b[43ma\u001b[49m \u001b[38;5;241m+\u001b[39m beta \u001b[38;5;241m*\u001b[39m b)\n",
      "\u001b[0;31mTypeError\u001b[0m: can't multiply sequence by non-int of type 'float'"
     ]
    }
   ],
   "source": [
    "a = [1, 2]\n",
    "b = [3, 4]\n",
    "alpha = -0.5\n",
    "beta = 1.5\n",
    "print (alpha *a + beta * b)"
   ]
  },
  {
   "cell_type": "markdown",
   "id": "be2aaf7d",
   "metadata": {},
   "source": [
    "## Block 9"
   ]
  },
  {
   "cell_type": "markdown",
   "id": "f64bdee7",
   "metadata": {},
   "source": [
    "Notes:\n",
    "\n",
    "Another difference between python and mathematical notation of vectors is that a scalar is just a vector of size 1. [page 3] So where x = 2.4 and x is a scalar and y [2.4] is a vector of size 1. x and y are equivalent. However, as we can see below, when implemented in python the two are not equivalent, as one is of type list and the other is of type float/int"
   ]
  },
  {
   "cell_type": "code",
   "execution_count": 62,
   "id": "9df9b6af",
   "metadata": {},
   "outputs": [
    {
     "data": {
      "text/plain": [
       "False"
      ]
     },
     "execution_count": 62,
     "metadata": {},
     "output_type": "execute_result"
    }
   ],
   "source": [
    "x = 2.4\n",
    "y = [2.4]\n",
    "x == y"
   ]
  },
  {
   "cell_type": "markdown",
   "id": "ecc33172",
   "metadata": {},
   "source": [
    "Additional Example:\n",
    "We can extract the value of the list of size 1 and show that the two are equivalent. y[0] returns an individual element which we is of the same type as x was originally intialized as.\n"
   ]
  },
  {
   "cell_type": "code",
   "execution_count": 63,
   "id": "4880ce23",
   "metadata": {},
   "outputs": [
    {
     "data": {
      "text/plain": [
       "True"
      ]
     },
     "execution_count": 63,
     "metadata": {},
     "output_type": "execute_result"
    }
   ],
   "source": [
    "y[0] == x"
   ]
  },
  {
   "cell_type": "markdown",
   "id": "0b47275f",
   "metadata": {},
   "source": [
    "## Block 10"
   ]
  },
  {
   "cell_type": "markdown",
   "id": "48c8a57f",
   "metadata": {},
   "source": [
    "Notes:\n",
    "To find the inner product of two vectors, we must use a method on the np module, and pass as arguments to the `inner` function two numpy arrays.\n",
    "\n",
    "The inner product is defined as: $a^T b = a_{1}b_{1} + a_{2}b_{2} +       + a{n}b_{n}$"
   ]
  },
  {
   "cell_type": "code",
   "execution_count": 64,
   "id": "eb0889e2",
   "metadata": {},
   "outputs": [
    {
     "name": "stdout",
     "output_type": "stream",
     "text": [
      "-7\n"
     ]
    }
   ],
   "source": [
    "x = np.array([-1,2,2])\n",
    "y = np.array([1,0,-3])\n",
    "print(np.inner(x,y))"
   ]
  },
  {
   "cell_type": "markdown",
   "id": "eb262a9f",
   "metadata": {},
   "source": [
    "Additional example:\n",
    "To implement without the `inner` method of np module I could define as follows\n"
   ]
  },
  {
   "cell_type": "code",
   "execution_count": 69,
   "id": "16f517cc",
   "metadata": {},
   "outputs": [
    {
     "data": {
      "text/plain": [
       "-7"
      ]
     },
     "execution_count": 69,
     "metadata": {},
     "output_type": "execute_result"
    }
   ],
   "source": [
    "def inner_product(x, y):\n",
    "    # we assume that x and y are of the same size \n",
    "    #for this example\n",
    "    #result is the accumulator variable\n",
    "    result = 0\n",
    "    for i in range(len(x)):\n",
    "        #we index into corresponding elements in both lists\n",
    "        # we add their product to the result accumulator\n",
    "        result += x[i] * y[i]\n",
    "        \n",
    "    return result\n",
    "x = [-1, 2, 2]\n",
    "y = [1, 0, -3]\n",
    "inner_product(x, y)"
   ]
  },
  {
   "cell_type": "code",
   "execution_count": null,
   "id": "eaae0996",
   "metadata": {},
   "outputs": [],
   "source": []
  }
 ],
 "metadata": {
  "kernelspec": {
   "display_name": "Python 3 (ipykernel)",
   "language": "python",
   "name": "python3"
  },
  "language_info": {
   "codemirror_mode": {
    "name": "ipython",
    "version": 3
   },
   "file_extension": ".py",
   "mimetype": "text/x-python",
   "name": "python",
   "nbconvert_exporter": "python",
   "pygments_lexer": "ipython3",
   "version": "3.9.15"
  }
 },
 "nbformat": 4,
 "nbformat_minor": 5
}
