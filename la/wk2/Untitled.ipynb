{
 "cells": [
  {
   "cell_type": "markdown",
   "id": "4ce1777e",
   "metadata": {},
   "source": [
    "## Q2: Random Exercise (problem 2.7)"
   ]
  },
  {
   "cell_type": "markdown",
   "id": "a6626aba",
   "metadata": {},
   "source": [
    "### Approach - Method 5\n",
    "\n",
    "I am going to attempt to solve this problem on my own and then review the solution from the instructor and reflect on where I was right and wrong."
   ]
  },
  {
   "cell_type": "markdown",
   "id": "457c2198",
   "metadata": {},
   "source": [
    "General forumale for affine functions. Verify that formula 2.4 holds for any affine function $ f : R^n ->R $\n",
    "\n",
    "Formula (2.4) page 33:\n",
    "\n",
    "$ f(x) = f(0) + x_{1}(f(e_{1} - f(0)) + \\, ... \\, + x_{n}(f(e_{n} - f(0))$\n"
   ]
  },
  {
   "cell_type": "markdown",
   "id": "e83ae641",
   "metadata": {},
   "source": [
    "My attempt:\n",
    "\n",
    "Becuase we know that f(x) is affine $ f(x) = ax + b $ for some n-vector a and scalar b. $ ax $ can also be described as the inner product of n-vectors $ a $ and $ x $ or $ f(x) = a^T x + b $\n",
    "\n",
    "The inner product of $ a $ and $ x $ can be expressed as $ a_{1}x_{i} + ... + a_{k}x_{k} $\n",
    "\n",
    "$ e_{i} $  is a unit vector.\n",
    "\n",
    "when x is equal to the unit vector $e_{i}$, then: \n",
    "\n",
    "$ f(e_{i}) = a^T*e_{i} + b $\n",
    "\n",
    "the inner product of $ a $ and $ e_{i} $ is $a_{i} $\n",
    "\n",
    "$ f(e_{i}) = a_{i} + b $\n",
    "\n",
    "subtract b from both sides to derive the value of a_{i} at a point\n",
    "\n",
    "$ f(e_{i}) - b = a_{i} $\n",
    "\n",
    "when x is 0, f(x) = b \n",
    "\n",
    "$f(0) = a^T*(0) + b = b$\n",
    "\n",
    "substiting a_{i} and b in the original equation of f(x):\n",
    "\n",
    "$ f(x) = a^T x + b $\n",
    "\n",
    "$ f(x) = b + \\sum_{i = 1}^{n}a_{i}* x_{i} $\n",
    "\n",
    "$ b= f(0), a_{i} = f(e_{i}) - b $\n",
    "\n",
    "$ f(x) = f(0) + \\sum_{i = 1}^{n}((f(e_{i})- b )* x_{i} $\n",
    "\n",
    "$ f(x) = f(0) + \\sum_{i = 1}^{n}((f(e_{i})- f(0))* x_{i} $\n",
    "\n",
    "Hence, we can see that  $ f(0) + \\sum_{i = 1}^{n}((f(e_{i})- f(0))* x_{i} = a^Tx + b $\n",
    "\n",
    "\n",
    "\n",
    "\n",
    "\n",
    "\n",
    "\n",
    "\n"
   ]
  },
  {
   "cell_type": "markdown",
   "id": "1e57b212",
   "metadata": {},
   "source": [
    "## Q3: Problem 2.1"
   ]
  },
  {
   "cell_type": "markdown",
   "id": "0db3149e",
   "metadata": {},
   "source": [
    "### Approach - Method 5"
   ]
  },
  {
   "cell_type": "markdown",
   "id": "1a0646dd",
   "metadata": {},
   "source": [
    "Determine whether each of the following scalar-valued functions of n-vectors is linear. Give inner product representation (n-vector a for which $ f(x) = a^T x) $)"
   ]
  },
  {
   "cell_type": "code",
   "execution_count": 6,
   "id": "91aac240",
   "metadata": {},
   "outputs": [],
   "source": [
    "#Part A"
   ]
  },
  {
   "cell_type": "markdown",
   "id": "f1e6d6af",
   "metadata": {},
   "source": [
    "The spread of values of the vector defined as $ f(x) = max_{k}x_{k} - min_{k}x_{k} $\n",
    "\n",
    "if f(x) is linear then $ f(max_{k}x_{k} - min_{k}x_{k})  = a^T x  $ when $ x = max_{k}x_{k} - min_{k}x_{k} $, we will prove homogenity and additivity through inner product representation. \n",
    "\n",
    "$ a^T x =  a^T (max_{k}x_{k} - min_{k}x_{k}) $\n",
    "\n",
    "$ = a^T max_{k}x_{k} - a^T min_{k}x_{k} $\n",
    "\n",
    "$ = a^T x_{k} max_{k} - a^T x_{k} min{k}$\n",
    " \n",
    "$ = f(x_{k})max_{k} - f(x_{k}) min_{k} $\n",
    "\n",
    "####  My original answer: f(x) is linear\n",
    "\n",
    "#### Actual soluiont: f(x) is not linear when x = (1, 0), y = (0, 1), α = β = 1/2. Then αx + βy = (1/2, 1/2), f(x) = f(y) = 1, and\n",
    "$$ f(αx + βy) = 0 6= αf(x) + βf(y) = 1. $$ \n",
    "\n",
    "### Reflection after reviewing the solution: \n",
    "Going into this problem, I was not properly understanding the implication of the max and min functions and how they affect the output of f(x). I thought the original equation was scaling vector x by the maximum value of vectorx, which is not what the equation was stating. I was not familiar with this notation previously. I can see now that the max(a*x = b*y) is not equal to a*(max(x)) + b*(max(y)). \n"
   ]
  },
  {
   "cell_type": "code",
   "execution_count": 1,
   "id": "acaf332d",
   "metadata": {},
   "outputs": [],
   "source": [
    "#Part B"
   ]
  },
  {
   "cell_type": "markdown",
   "id": "25070f3d",
   "metadata": {},
   "source": [
    "I will attempt to approve homogeneity and additivity for f(x):\n",
    "$ f(x) = x_n - x_1 = f(\\alpha x + \\beta y) = \\alpha f(x) + \\beta f(y)$\n",
    "\n",
    "$ = (\\alpha x_n + \\beta y_n) - (\\alpha x_1 + \\beta y_1)$ <-- substitute $\\alpha x + \\beta y$  for  x\n",
    "\n",
    "$ = (\\alpha x_n - \\alpha x_1) + (\\beta y_n - \\beta y_1) $ <-- rearrage through associativity and commutatitivity of addition\n",
    "\n",
    "$ = \\alpha (x-n - x_1) + \\beta(y_n - y_1)  $ <-- distributive property\n",
    "\n",
    "$ \\alpha f(x) + \\beta f(y) $ <-- closure f(x) substituted for x_n - x_1, f(y) substituted for y_n - y_1\n",
    "\n",
    "#### My original answer: $ \\alpha f(x) + \\beta f(y)  = f(\\alpha x + \\beta y)$, hence f(x) is linear\n",
    "\n",
    "Give an inner product representation for which $ f(x) = a^Tx $ for all x. \n",
    "\n",
    "because f(x) = x_n - x_1, a must have a value for a_n and a_1 and sparse everywhere else. \n",
    "\n",
    "a = [-1,0 ... 0,1] for any size of n.\n",
    "\n",
    "#### Reflection after viewing answer:\n",
    "My solution was correct!"
   ]
  },
  {
   "cell_type": "code",
   "execution_count": 2,
   "id": "613da9de",
   "metadata": {},
   "outputs": [],
   "source": [
    "#Part C"
   ]
  },
  {
   "cell_type": "markdown",
   "id": "21767083",
   "metadata": {},
   "source": [
    "We will attempt to prove homogeneity and additivity for f(x) where: \n",
    "\n",
    "$ f(x) = x_{k+1}= f(\\alpha x + \\beta y) = \\alpha f(x) + \\beta f(y) $ \n",
    "\n",
    "$ = \\alpha x_{k+1} + \\beta y_{k+1}$ <-- substitute \\alpha x + \\beta y for x_{k+1}\n",
    "\n",
    "$ = \\alpha f(x) + \\beta f(y) $ <- closure f(x) and f(y) for x_{k+1} and y_{k+1}\n",
    "\n",
    "#### My original answer: $ f(\\alpha x + \\beta y) = \\alpha f(x) + \\beta f(y) $ when f(x) is the median value of vector x, hence f(x) is linear\n",
    "\n",
    "#### Actual solution:\n",
    "\n",
    "Solution: Not linear. Choose x = (−1, 0, 2), y = (2, −1, 0), α = β = 1. Then αx + βy =\n",
    "(1, −1, 2), f(x) = f(y) = 0, and\n",
    "f(αx + βy) = 1 6= αf(x) + βf(y) = 0.\n",
    "\n",
    "#### My reflection:\n",
    "I assumed that the vectors were sorted in ascending order in my initial derivation, which is not a valid assumption, therefore violating additivity. f(x + y) != f(x) + f(y) when x and y are not already pre-sorted in ascending or descending order. "
   ]
  },
  {
   "cell_type": "code",
   "execution_count": 3,
   "id": "f8588644",
   "metadata": {},
   "outputs": [],
   "source": [
    "#Part D"
   ]
  },
  {
   "cell_type": "markdown",
   "id": "265a9d7b",
   "metadata": {},
   "source": [
    "I will attempt to prove that f(x) is linear by verifying f(x) demonstrates additivity and homogeneity:\n",
    "\n",
    "$ f(x) = avg(x_{i+1}) - avg(x_{i}) = f(\\alpha x + \\beta y) = \\alpha f(x) + \\beta f(y)$\n",
    "\n",
    "I'm going to use x_{i+1} and x_i as shorthand to represent the average of odd values and average of even values over a vector.\n",
    "\n",
    "$ = average (\\alpha x_{i+1} + \\beta y_{i+1}) - average(x_{i} + \\beta y_{i})$ <--- substitute alpha x and beta y for x in f(x)\n",
    "\n",
    "$ = average (\\alpha x_{i+1} ) + average(\\beta y_{i+1}) - average(\\alpha x_{i}) - average(\\beta y_{i}) $ <- distribute average function\n",
    "\n",
    "$ = \\alpha * average ( x_{i+1} ) - \\alpha * average( x_{i}) + \\beta * average(y_{i+1}) - \\beta * average(y_{i}) $ <-- commutatitivity and associativity, rearranging terms\n",
    "\n",
    "$ = \\alpha * (average(x_{i+1}) - average(x_{i})) + \\beta * (average(y_{i+1}) - average(y_{i})) $ <--- distribute out alpha and beta\n",
    "\n",
    "$ = \\alpha f(x) + \\beta f(y) $ <-- closure f(x) for average x_{i+1} - x_{i}\n",
    "\n",
    "####  My original solution:\n",
    "hence, both additivity and homogeneity hold for f(x), f(x) is linear. \n",
    "\n",
    "the inner product representation of f(x) = sum of each element of x divided by size of x, thus\n",
    "\n",
    "f(x) = a^Tx = sum(a_i * x_i) = sum(x)/n\n",
    "\n",
    "a_i = 1/n\n",
    "\n",
    "a = (1/n,1/n...1/n)\n",
    "\n",
    "#### Reflection after viewing the solution:\n",
    "\n",
    "I was correct that the function is linear, but I was not correct on the inner product representation of a. Because we are subtracting even indices averages from odd indices averages, then the sign of each odd indexed element should be positive, and the sign of each even indexed element should be negative."
   ]
  },
  {
   "cell_type": "code",
   "execution_count": 4,
   "id": "091c2fce",
   "metadata": {},
   "outputs": [],
   "source": [
    "#Part E"
   ]
  },
  {
   "cell_type": "markdown",
   "id": "8e5fb36a",
   "metadata": {},
   "source": [
    "I will attempt to prove that f(x) is linear by verifying f(x) demonstrates additivity and homogeneity:\n",
    "\n",
    "$ f(x) = x_n + (x_n - x_n-1) = f(\\alpha x + \\beta y) = \\alpha f(x) + \\beta f(y)$\n",
    "\n",
    "$ = \\alpha x_n + \\beta y_n +  (\\alpha x_n + \\beta y_n - \\alpha x_{n-1} + \\beta y_{n-1} )$ <-- substitute \\alpha x + \\beta y for x in f(x)\n",
    "\n",
    "$ = \\alpha x_n + \\alpha x_n - \\alpha x_{n-1} + \\beta y_n + \\beta y_n - \\beta y_{n-1} $ <-- rearrange terms through commutatitivity and associativity of addition\n",
    "\n",
    "$ = \\alpha (x_n + x_n - x_{n-1}) + \\beta (y_n + y_n + y_{n-1}) $ <-- distribute alpha and beta out of like terms\n",
    "\n",
    "#### my original answer $ = \\alpha f(x) + \\beta f(y) $, hence the function f(x) is linear\n",
    "\n",
    "the inner product representation of a = (0,0,.. -1, 2). This is because we are adding two of the last element and subtracting one of the second to last element\n",
    "\n",
    "#### Reflection after viewing solution:\n",
    "I was correct!"
   ]
  },
  {
   "cell_type": "markdown",
   "id": "1cd58ab8",
   "metadata": {},
   "source": [
    "## Q4: Problem 2.4"
   ]
  },
  {
   "cell_type": "markdown",
   "id": "3489b783",
   "metadata": {},
   "source": [
    "#### Approach - Method 5:\n",
    "I will attempt this myself and then review the solution"
   ]
  },
  {
   "cell_type": "markdown",
   "id": "06ce3bb5",
   "metadata": {},
   "source": [
    "Given: $ f(1,1,0) = -1, f(-1, 1, 1) = 1, f(1,-1,-1) = 1$\n",
    "\n",
    "choose whether the function is linear, could be linear, or cannot be linear.\n",
    "\n",
    "Hypothesis: if f(x) is linear then $ f(\\alpha x + \\beta y) = \\alpha f(x) + \\beta f(y) $ by homogeneity and additivity\n",
    "\n",
    "f(x + y + z) must equal f(x) + f(y) + f(z) if the function is linear, where x, y, and z represent the three given vectors given above: \n",
    "\n",
    "$ f((1, 1, 0) + (-1, 1, 1) + (1,-1,-1)) = f(1, 1, 0) + f(-1, 1, 1) + f(1,-1,-1) $\n",
    "\n",
    "However, we know that x + y + z = (1, 1, 0) = f(1,1,0) = -1, and that f(x) + f(y) + f(z) = -1 + 1 +1 = 1.\n",
    "\n",
    "This is a contradiction! and f(x + y + z) != f(x) + f(y) +f(z)\n",
    "$ f(1,1,0) != 1 $\n",
    "\n",
    "### My original solution: \n",
    "Hence, this function cannot be linear.\n",
    "\n",
    "#### Reflection after reviewing solution:\n",
    "The book took a different approach to solving the solution, in that, in a linear function, the inverse value of an input should produce and inverse output, however, that is not the case for f(y) and f(z) given above where y = -1, 1, 1 and z = 1, -1, -1, and both outputs = 1\n"
   ]
  },
  {
   "cell_type": "markdown",
   "id": "31cb4f63",
   "metadata": {},
   "source": [
    "## Q5: Problem 2.6"
   ]
  },
  {
   "cell_type": "markdown",
   "id": "c9ba7709",
   "metadata": {},
   "source": [
    "#### Approach - Method 5"
   ]
  },
  {
   "cell_type": "markdown",
   "id": "f4018c5d",
   "metadata": {},
   "source": [
    "$ s= w^Ta + v $\n",
    "\n",
    "scores in a are ordinal (1, 2, 3), each value representing a contribution to the score of (0, 1, 2) and (0, 2, 4) for questions 1-15 and 16-30 respectively \n",
    "\n",
    "for questions <= 15, score is just equal to the (ordinal value - 1), for questions greater than 15, the score is weighted by 2 * (ordinal value -1)\n",
    "\n",
    "elements 1-15 or vector w, where w is a 30-vector, equal 1, and elements 15-30 of vector w is equal 2\n",
    "\n",
    "scalar v is equal to 0, as the score is not offset by any constant value\n",
    "\n",
    "#### My original answer to problem 2.6 \n",
    "$ s = [1..._{15} 2..._{15}]^Ta + 0 $\n",
    "\n",
    "#### Reflection after reviewing the solution\n",
    "I missed a step in my solution, where I forgot to continue the derivation for a and left is as a =(ordinal value - 1). \n",
    "\n",
    "To continue that would require that the inner product of vector w with a vector a where a_i = ( ordinal value - 1) = the inner product of vector w with vector a - the inner product of vector w with the inner product of vector -1 ~ (w^T-1). (w^T-1) = -45. Therefore, $ s = [1_{15}2_{15}]^Ta -45 $ \n"
   ]
  },
  {
   "cell_type": "markdown",
   "id": "f8f6e56d",
   "metadata": {},
   "source": [
    "### Question 6"
   ]
  },
  {
   "cell_type": "markdown",
   "id": "6a07702a",
   "metadata": {},
   "source": [
    "Redo proof  on page 30\n",
    "\n",
    "On page 30, the function has 3 vectors (a, x, y) , however this question only asks to specify two of the vectors. I took this to mean that we should choose values for vectors x and y.\n",
    "\n",
    "\n",
    "$ f(\\alpha x + \\beta y) = a^T(\\alpha x + \\beta y) $\n",
    "\n",
    "$f(x) = a^Tx$\n",
    "\n",
    "x = [1, 2, 3], y = [-1, 0, 1]\n",
    "alpha = 1, beta = 1\n",
    "\n",
    "We will prove the superposition equality of f(x) as described in the statement:\n",
    "\n",
    "$ a^T(\\alpha[1,2,3] + \\beta[-1, 0, 1]) = f(\\alpha[1,2,3] + \\beta[-1,0,1]) = \\alpha f([1,2,3]) + \\beta f([-1,0,1])$\n",
    "\n",
    "Proof:\n",
    "\n",
    "$ a^Tx = a^T(x+y) $ when (x + y) is substituted for x in f(x)\n",
    "\n",
    "$ = a_1*1 + a_1*-1... = \\sum a_i*x_i + \\sum a_i*y_i  $  is the inner product of vector a and (x + y) \n",
    "\n",
    "The inner product of a and the sum of vectors x and y is equivalent to the sum of the inner product of a and x and the inner product of a and y \n",
    "\n",
    "$ = a^T([1,2,3]) + a^T([-1,0,1]) = $   Sum of a_i * x_i = inner product of a and x, Sum of a_i * y_i = inner product of a and y\n",
    "\n",
    "$ = a_1*1 + a_2*2 ... + a_1*-1 + a_2*0 $ expressing the equivalent form of the inner products above\n",
    "\n",
    "$= a_1*(1 - 1) + a_2*(2 + 0)...$  rearranging terms and pulling out like terms\n",
    "\n",
    "$ f(\\alpha x + \\beta y) = a^T(0,2,4) = a_1*(0) + a_2*(2) ... $ <--- demonstrating that the inner product of a with the sum of x and y is the same as above for the sum of the inner products a with x and a with y\n",
    "\n",
    "\n",
    "Hence, we have proven the superposition equality and thus the linearity of the function with x and y defined with the values above.\n"
   ]
  },
  {
   "cell_type": "markdown",
   "id": "cd6fcc30",
   "metadata": {},
   "source": [
    "Is this still a proof?\n",
    "\n",
    "It is not a proof in the general case for all values of x and y, but is a proof that when x and y are vectors with the specific values I defined above, that the inner product of any arbitrary vector a and the sum of those two vectors will be a linear function. It also can be generalized to be true for all values x and y.\n",
    "\n",
    "Why is it useful?\n",
    "\n",
    "It is useful because by moving from the general case to the specific, we can understand more intuitively the logic behind the proof, and better understand what is not obvious about the proof to begin with. For example, it wouldn't immediately be obvious that the product of a vector with the sum of two vectors would be equal to the sum of the products of two vectors."
   ]
  },
  {
   "cell_type": "code",
   "execution_count": null,
   "id": "cb72eff7",
   "metadata": {},
   "outputs": [],
   "source": []
  }
 ],
 "metadata": {
  "kernelspec": {
   "display_name": "Python 3 (ipykernel)",
   "language": "python",
   "name": "python3"
  },
  "language_info": {
   "codemirror_mode": {
    "name": "ipython",
    "version": 3
   },
   "file_extension": ".py",
   "mimetype": "text/x-python",
   "name": "python",
   "nbconvert_exporter": "python",
   "pygments_lexer": "ipython3",
   "version": "3.9.15"
  }
 },
 "nbformat": 4,
 "nbformat_minor": 5
}
